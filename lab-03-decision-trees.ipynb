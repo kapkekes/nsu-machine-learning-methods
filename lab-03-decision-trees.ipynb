{
 "cells": [
  {
   "cell_type": "markdown",
   "source": [
    "# Лабораторная работа №3\n",
    "\n",
    "Деревья решений. Ансамбли решающих деревьев."
   ],
   "metadata": {
    "collapsed": false
   }
  },
  {
   "cell_type": "markdown",
   "source": [
    "## 0\\. Импортировать необходимые модули и задать вспомогательные функции:"
   ],
   "metadata": {
    "collapsed": false
   }
  },
  {
   "cell_type": "code",
   "execution_count": null,
   "metadata": {
    "collapsed": true
   },
   "outputs": [],
   "source": [
    "%matplotlib inline\n",
    "\n",
    "from collections.abc import Iterator\n",
    "from contextlib import contextmanager\n",
    "from datetime import timedelta\n",
    "from time import perf_counter\n",
    "\n",
    "import numpy as np\n",
    "import pandas as pd\n",
    "from matplotlib import pyplot as plt\n",
    "from numpy.random import RandomState\n",
    "from sklearn.ensemble import GradientBoostingClassifier, RandomForestClassifier\n",
    "from sklearn.model_selection import KFold\n",
    "from sklearn.preprocessing import LabelEncoder\n",
    "from sklearn.tree import DecisionTreeClassifier, plot_tree\n",
    "from sklearn.utils import shuffle\n",
    "\n",
    "@contextmanager\n",
    "def measure(message: str) -> Iterator[None]:\n",
    "    start = perf_counter()\n",
    "    yield\n",
    "    end = perf_counter()\n",
    "    display(f\"Время, затраченное на {message}: {timedelta(seconds=(end - start))}\")"
   ]
  },
  {
   "cell_type": "markdown",
   "source": [
    "### 1\\.1\\. Выбрать подходящую таблицу данных."
   ],
   "metadata": {
    "collapsed": false
   }
  },
  {
   "cell_type": "code",
   "execution_count": null,
   "outputs": [],
   "source": [
    "adults: pd.DataFrame = pd.read_csv(\"https://archive.ics.uci.edu/ml/machine-learning-databases/adult/adult.data\", header=None)\n",
    "\n",
    "adults"
   ],
   "metadata": {
    "collapsed": false
   }
  },
  {
   "cell_type": "code",
   "execution_count": null,
   "outputs": [],
   "source": [
    "random = RandomState(0)\n",
    "\n",
    "encoder = LabelEncoder()\n",
    "encoder.fit(adults[14])\n",
    "\n",
    "adults_X: pd.DataFrame = adults[[2, 4, 10, 11, 12]]\n",
    "adults_Y = pd.Series(encoder.transform(adults[14]))\n",
    "\n",
    "adults_X, adults_Y = shuffle(adults_X, adults_Y, random_state=random)"
   ],
   "metadata": {
    "collapsed": false
   }
  },
  {
   "cell_type": "code",
   "execution_count": null,
   "outputs": [],
   "source": [
    "adults_X"
   ],
   "metadata": {
    "collapsed": false
   }
  },
  {
   "cell_type": "code",
   "execution_count": null,
   "outputs": [],
   "source": [
    "adults_Y"
   ],
   "metadata": {
    "collapsed": false
   }
  },
  {
   "cell_type": "markdown",
   "source": [
    "### 1\\.2\\. Построить и визуализировать дерево решений.\n",
    "\n",
    "### 3\\.1\\. Построить зависимость качества решения от числа вершин дерева."
   ],
   "metadata": {
    "collapsed": false
   }
  },
  {
   "cell_type": "code",
   "execution_count": null,
   "outputs": [],
   "source": [
    "class Validator:\n",
    "    def __init__(self, X: pd.DataFrame, Y: pd.Series, split_to: int = 5) -> None:  # noqa\n",
    "        self._X = X\n",
    "        self._Y = Y\n",
    "        self._kf = KFold(split_to)\n",
    "\n",
    "    def cross(self, model) -> np.array:\n",
    "        result = []\n",
    "        for idx, (training_slice, evaluation_slice) in enumerate(self._kf.split(self._X)):\n",
    "            t_X: pd.DataFrame = self._X.iloc[training_slice]\n",
    "            t_Y: pd.Series = self._Y.iloc[training_slice]\n",
    "            e_X: pd.DataFrame = self._X.iloc[evaluation_slice]\n",
    "            e_Y: pd.Series = self._Y.iloc[evaluation_slice]\n",
    "\n",
    "            p_Y: np.ndarray = model.fit(t_X, t_Y).predict(e_X)\n",
    "            result.append((p_Y == e_Y).sum() / e_Y.shape[0])\n",
    "        return np.array(result)\n",
    "\n",
    "    def training(self, model) -> np.array:\n",
    "        result = []\n",
    "        for idx, (training_slice, _) in enumerate(self._kf.split(self._X)):\n",
    "            t_X: pd.DataFrame = self._X.iloc[training_slice]\n",
    "            t_Y: pd.Series = self._Y.iloc[training_slice]\n",
    "\n",
    "            p_Y: np.ndarray = model.fit(t_X, t_Y).predict(t_X)\n",
    "            result.append((p_Y == t_Y).sum() / t_Y.shape[0])\n",
    "        return np.array(result)"
   ],
   "metadata": {
    "collapsed": false
   }
  },
  {
   "cell_type": "code",
   "execution_count": null,
   "outputs": [],
   "source": [
    "validator = Validator(adults_X, adults_Y)\n",
    "\n",
    "scores = []\n",
    "for depth in range(1, 16):\n",
    "    classifier = DecisionTreeClassifier(max_depth=depth, random_state=random)\n",
    "    scores.append((depth, validator.cross(classifier).mean(axis=0)))\n",
    "\n",
    "optimal_depth, optimal_score = max(scores, key=lambda s: s[1])\n",
    "display(f\"Оптимальная высота дерева на кросс-валидации: {optimal_depth}; счёт - {optimal_score}\")\n",
    "plt.plot(*zip(*scores), label=\"Кросс-валидация\")\n",
    "\n",
    "scores = []\n",
    "for depth in range(1, 16):\n",
    "    classifier = DecisionTreeClassifier(max_depth=depth, random_state=random)\n",
    "    scores.append((depth, validator.training(classifier).mean(axis=0)))\n",
    "\n",
    "optimal_depth, optimal_score = max(scores, key=lambda s: s[1])\n",
    "display(f\"Оптимальная высота дерева на тренировочных данных: {optimal_depth}; счёт - {optimal_score}\")\n",
    "plt.plot(*zip(*scores), label=\"Тренировочные данные\")\n",
    "plt.legend()"
   ],
   "metadata": {
    "collapsed": false
   }
  },
  {
   "cell_type": "code",
   "execution_count": null,
   "outputs": [],
   "source": [
    "can_be_drawn = 3\n",
    "classifier = DecisionTreeClassifier(max_depth=can_be_drawn, random_state=random)\n",
    "fitted = classifier.fit(adults_X, adults_Y)\n",
    "plt.figure(figsize=(22, 8))\n",
    "trees = plot_tree(fitted)"
   ],
   "metadata": {
    "collapsed": false
   }
  },
  {
   "cell_type": "markdown",
   "source": [
    "### 2\\.1\\. Применить метод градиентного бустинга."
   ],
   "metadata": {
    "collapsed": false
   }
  },
  {
   "cell_type": "code",
   "execution_count": null,
   "outputs": [],
   "source": [
    "classifier = GradientBoostingClassifier(n_estimators=500, max_depth=3, random_state=random)\n",
    "\n",
    "with measure(\"обучение модели\"):\n",
    "    fitted = classifier.fit(adults_X, adults_Y)\n",
    "\n",
    "prediction: np.ndarray = fitted.predict(adults_X)\n",
    "(prediction == adults_Y).sum() / adults_Y.shape[0]"
   ],
   "metadata": {
    "collapsed": false
   }
  },
  {
   "cell_type": "markdown",
   "source": [
    "### 2\\.2\\. Вычислить значимость параметров."
   ],
   "metadata": {
    "collapsed": false
   }
  },
  {
   "cell_type": "code",
   "execution_count": null,
   "outputs": [],
   "source": [
    "importance = adults_X.columns.to_series().astype(float)\n",
    "for idx, i in enumerate(classifier.feature_importances_):\n",
    "    importance.iloc[idx] = i\n",
    "\n",
    "importance"
   ],
   "metadata": {
    "collapsed": false
   }
  },
  {
   "cell_type": "markdown",
   "source": [
    "### 2\\.3\\. Выдать список построенных деревьев."
   ],
   "metadata": {
    "collapsed": false
   }
  },
  {
   "cell_type": "code",
   "execution_count": null,
   "outputs": [],
   "source": [
    "estimator: np.ndarray\n",
    "for estimator in classifier.estimators_[::100]:\n",
    "    plt.figure(figsize=(22, 8))\n",
    "    plot_tree(estimator.item())"
   ],
   "metadata": {
    "collapsed": false
   }
  },
  {
   "cell_type": "markdown",
   "source": [
    "### 4\\.1\\. Используя оценку на тренировочных данных, показать, как количество и глубина деревьев влияет на качество решения методом градиентного бустинга."
   ],
   "metadata": {
    "collapsed": false
   }
  },
  {
   "cell_type": "code",
   "execution_count": null,
   "outputs": [],
   "source": [
    "DEPTH_LOWER_BOUND = 1\n",
    "DEPTH_UPPER_BOUND = 2 + 1\n",
    "DEPTH_STEP = 1\n",
    "\n",
    "ESTIMATORS_N_LOWER_BOUND = 100\n",
    "ESTIMATORS_N_UPPER_BOUND = 200 + 1\n",
    "ESTIMATORS_N_STEP = 100\n",
    "\n",
    "DEPTH_RANGE = range(DEPTH_LOWER_BOUND, DEPTH_UPPER_BOUND, DEPTH_STEP)\n",
    "N_ESTIMATORS_RANGE = range(ESTIMATORS_N_LOWER_BOUND, ESTIMATORS_N_UPPER_BOUND, ESTIMATORS_N_STEP)\n",
    "\n",
    "score_frame = lambda: pd.DataFrame(index=N_ESTIMATORS_RANGE, columns=DEPTH_RANGE, dtype=float)"
   ],
   "metadata": {
    "collapsed": false
   }
  },
  {
   "cell_type": "code",
   "execution_count": null,
   "outputs": [],
   "source": [
    "scores_gradient_training = score_frame()\n",
    "for depth in DEPTH_RANGE:\n",
    "    for n_estimators in N_ESTIMATORS_RANGE:\n",
    "        classifier = GradientBoostingClassifier(n_estimators=n_estimators, max_depth=depth, random_state=random)\n",
    "        scores_gradient_training[depth][n_estimators] = validator.training(classifier).mean(axis=0)\n",
    "\n",
    "display(scores_gradient_training)\n",
    "scores_gradient_training.plot()"
   ],
   "metadata": {
    "collapsed": false
   }
  },
  {
   "cell_type": "markdown",
   "source": [
    "### 4\\.2\\. Аналогично 4.1, но оценивать кросс-валидацией."
   ],
   "metadata": {
    "collapsed": false
   }
  },
  {
   "cell_type": "code",
   "execution_count": null,
   "outputs": [],
   "source": [
    "scores_gradient_cross = score_frame()\n",
    "for depth in DEPTH_RANGE:\n",
    "    for n_estimators in N_ESTIMATORS_RANGE:\n",
    "        classifier = GradientBoostingClassifier(n_estimators=n_estimators, max_depth=depth, random_state=random)\n",
    "        scores_gradient_cross[depth][n_estimators] = validator.cross(classifier).mean(axis=0)\n",
    "\n",
    "display(scores_gradient_cross)\n",
    "scores_gradient_cross.plot()"
   ],
   "metadata": {
    "collapsed": false
   }
  },
  {
   "cell_type": "markdown",
   "source": [
    "### 5\\.1\\. Аналогично 4.1, но решать методом случайного леса."
   ],
   "metadata": {
    "collapsed": false
   }
  },
  {
   "cell_type": "code",
   "execution_count": null,
   "outputs": [],
   "source": [
    "scores_random_forest_training = score_frame()\n",
    "for depth in DEPTH_RANGE:\n",
    "    for n_estimators in N_ESTIMATORS_RANGE:\n",
    "        classifier = RandomForestClassifier(n_estimators=n_estimators, max_depth=depth, random_state=random)\n",
    "        scores_random_forest_training[depth][n_estimators] = validator.training(classifier).mean(axis=0)\n",
    "\n",
    "display(scores_random_forest_training)\n",
    "scores_random_forest_training.plot()"
   ],
   "metadata": {
    "collapsed": false
   }
  },
  {
   "cell_type": "markdown",
   "source": [
    "### 5\\.2\\. Аналогично 4.2, но решать методом случайного леса."
   ],
   "metadata": {
    "collapsed": false
   }
  },
  {
   "cell_type": "code",
   "execution_count": null,
   "outputs": [],
   "source": [
    "scores_random_forest_cross = score_frame()\n",
    "for depth in DEPTH_RANGE:\n",
    "    for n_estimators in N_ESTIMATORS_RANGE:\n",
    "        classifier = RandomForestClassifier(n_estimators=n_estimators, max_depth=depth, random_state=random)\n",
    "        scores_random_forest_cross[depth][n_estimators] = validator.cross(classifier).mean(axis=0)\n",
    "\n",
    "display(scores_random_forest_cross)\n",
    "scores_random_forest_cross.plot()"
   ],
   "metadata": {
    "collapsed": false
   }
  },
  {
   "cell_type": "code",
   "execution_count": null,
   "outputs": [],
   "source": [
    "scores_gradient_training"
   ],
   "metadata": {
    "collapsed": false
   }
  },
  {
   "cell_type": "code",
   "execution_count": null,
   "outputs": [],
   "source": [],
   "metadata": {
    "collapsed": false
   }
  }
 ],
 "metadata": {
  "kernelspec": {
   "display_name": "Python 3",
   "language": "python",
   "name": "python3"
  },
  "language_info": {
   "codemirror_mode": {
    "name": "ipython",
    "version": 2
   },
   "file_extension": ".py",
   "mimetype": "text/x-python",
   "name": "python",
   "nbconvert_exporter": "python",
   "pygments_lexer": "ipython2",
   "version": "2.7.6"
  }
 },
 "nbformat": 4,
 "nbformat_minor": 0
}
