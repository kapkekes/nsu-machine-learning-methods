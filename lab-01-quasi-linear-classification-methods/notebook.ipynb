{
 "cells": [
  {
   "cell_type": "markdown",
   "source": [
    "# Лабораторная работа №1\n",
    "\n",
    "(Квази) линейные методы классификации."
   ],
   "metadata": {
    "collapsed": false
   },
   "id": "e38b7e1309abb5cd"
  },
  {
   "cell_type": "markdown",
   "source": [
    "## 0\\. Импортировать необходимые модули:"
   ],
   "metadata": {
    "collapsed": false
   },
   "id": "e4b24074f1e43219"
  },
  {
   "cell_type": "code",
   "execution_count": 1,
   "id": "initial_id",
   "metadata": {
    "collapsed": true,
    "ExecuteTime": {
     "end_time": "2023-10-09T08:06:31.715399Z",
     "start_time": "2023-10-09T08:06:28.468999500Z"
    }
   },
   "outputs": [],
   "source": [
    "from itertools import combinations\n",
    "from typing import Protocol, Any\n",
    "\n",
    "import numpy as np\n",
    "\n",
    "from matplotlib.axes import Axes\n",
    "from matplotlib.figure import Figure\n",
    "from matplotlib.ticker import FormatStrFormatter\n",
    "from pandas import DataFrame, Series\n",
    "from sklearn import datasets\n",
    "from sklearn.base import ClassifierMixin\n",
    "from sklearn.discriminant_analysis import LinearDiscriminantAnalysis, QuadraticDiscriminantAnalysis\n",
    "from sklearn.linear_model import LogisticRegression\n",
    "from sklearn.naive_bayes import GaussianNB\n",
    "from sklearn.preprocessing import StandardScaler\n",
    "from sklearn.svm import SVC\n",
    "from sklearn.utils import Bunch"
   ]
  },
  {
   "cell_type": "markdown",
   "source": [
    "### 1\\.1\\. Загрузить таблицу Iris из sklearn.datasets в виде **pandas.DataFrame**."
   ],
   "metadata": {
    "collapsed": false
   },
   "id": "50ef40cf8bbef6ee"
  },
  {
   "cell_type": "code",
   "execution_count": 2,
   "outputs": [
    {
     "data": {
      "text/plain": "     sepal length (cm)  sepal width (cm)  petal length (cm)  petal width (cm)  \\\n0                  5.1               3.5                1.4               0.2   \n1                  4.9               3.0                1.4               0.2   \n2                  4.7               3.2                1.3               0.2   \n3                  4.6               3.1                1.5               0.2   \n4                  5.0               3.6                1.4               0.2   \n..                 ...               ...                ...               ...   \n145                6.7               3.0                5.2               2.3   \n146                6.3               2.5                5.0               1.9   \n147                6.5               3.0                5.2               2.0   \n148                6.2               3.4                5.4               2.3   \n149                5.9               3.0                5.1               1.8   \n\n     target  \n0         0  \n1         0  \n2         0  \n3         0  \n4         0  \n..      ...  \n145       2  \n146       2  \n147       2  \n148       2  \n149       2  \n\n[150 rows x 5 columns]",
      "text/html": "<div>\n<style scoped>\n    .dataframe tbody tr th:only-of-type {\n        vertical-align: middle;\n    }\n\n    .dataframe tbody tr th {\n        vertical-align: top;\n    }\n\n    .dataframe thead th {\n        text-align: right;\n    }\n</style>\n<table border=\"1\" class=\"dataframe\">\n  <thead>\n    <tr style=\"text-align: right;\">\n      <th></th>\n      <th>sepal length (cm)</th>\n      <th>sepal width (cm)</th>\n      <th>petal length (cm)</th>\n      <th>petal width (cm)</th>\n      <th>target</th>\n    </tr>\n  </thead>\n  <tbody>\n    <tr>\n      <th>0</th>\n      <td>5.1</td>\n      <td>3.5</td>\n      <td>1.4</td>\n      <td>0.2</td>\n      <td>0</td>\n    </tr>\n    <tr>\n      <th>1</th>\n      <td>4.9</td>\n      <td>3.0</td>\n      <td>1.4</td>\n      <td>0.2</td>\n      <td>0</td>\n    </tr>\n    <tr>\n      <th>2</th>\n      <td>4.7</td>\n      <td>3.2</td>\n      <td>1.3</td>\n      <td>0.2</td>\n      <td>0</td>\n    </tr>\n    <tr>\n      <th>3</th>\n      <td>4.6</td>\n      <td>3.1</td>\n      <td>1.5</td>\n      <td>0.2</td>\n      <td>0</td>\n    </tr>\n    <tr>\n      <th>4</th>\n      <td>5.0</td>\n      <td>3.6</td>\n      <td>1.4</td>\n      <td>0.2</td>\n      <td>0</td>\n    </tr>\n    <tr>\n      <th>...</th>\n      <td>...</td>\n      <td>...</td>\n      <td>...</td>\n      <td>...</td>\n      <td>...</td>\n    </tr>\n    <tr>\n      <th>145</th>\n      <td>6.7</td>\n      <td>3.0</td>\n      <td>5.2</td>\n      <td>2.3</td>\n      <td>2</td>\n    </tr>\n    <tr>\n      <th>146</th>\n      <td>6.3</td>\n      <td>2.5</td>\n      <td>5.0</td>\n      <td>1.9</td>\n      <td>2</td>\n    </tr>\n    <tr>\n      <th>147</th>\n      <td>6.5</td>\n      <td>3.0</td>\n      <td>5.2</td>\n      <td>2.0</td>\n      <td>2</td>\n    </tr>\n    <tr>\n      <th>148</th>\n      <td>6.2</td>\n      <td>3.4</td>\n      <td>5.4</td>\n      <td>2.3</td>\n      <td>2</td>\n    </tr>\n    <tr>\n      <th>149</th>\n      <td>5.9</td>\n      <td>3.0</td>\n      <td>5.1</td>\n      <td>1.8</td>\n      <td>2</td>\n    </tr>\n  </tbody>\n</table>\n<p>150 rows × 5 columns</p>\n</div>"
     },
     "execution_count": 2,
     "metadata": {},
     "output_type": "execute_result"
    }
   ],
   "source": [
    "iris_bunch: Bunch = datasets.load_iris(as_frame=True)\n",
    "iris_dataframe: DataFrame = iris_bunch[\"frame\"]\n",
    "\n",
    "iris_dataframe"
   ],
   "metadata": {
    "collapsed": false,
    "ExecuteTime": {
     "end_time": "2023-10-09T08:06:31.771598800Z",
     "start_time": "2023-10-09T08:06:31.713399300Z"
    }
   },
   "id": "8923fecf749fd165"
  },
  {
   "cell_type": "markdown",
   "source": [
    "### 1\\.2\\. Вычислить корреляции между признаками на всей таблице."
   ],
   "metadata": {
    "collapsed": false
   },
   "id": "253b3c5587c1c8f4"
  },
  {
   "cell_type": "code",
   "execution_count": 3,
   "outputs": [
    {
     "data": {
      "text/plain": "array([[ 1.        , -0.11756978,  0.87175378,  0.81794113],\n       [-0.11756978,  1.        , -0.4284401 , -0.36612593],\n       [ 0.87175378, -0.4284401 ,  1.        ,  0.96286543],\n       [ 0.81794113, -0.36612593,  0.96286543,  1.        ]])"
     },
     "execution_count": 3,
     "metadata": {},
     "output_type": "execute_result"
    }
   ],
   "source": [
    "def via_numpy_scaler(d: DataFrame) -> np.ndarray:\n",
    "    return np.corrcoef(StandardScaler().fit_transform(d.loc[::, \"sepal length (cm)\": \"petal width (cm)\"]).T)\n",
    "\n",
    "\n",
    "def via_dataframe_interface(d: DataFrame) -> DataFrame:\n",
    "    return d.loc[::, \"sepal length (cm)\": \"petal width (cm)\"].corr()\n",
    "\n",
    "\n",
    "via_numpy_scaler(iris_dataframe)"
   ],
   "metadata": {
    "collapsed": false,
    "ExecuteTime": {
     "end_time": "2023-10-09T08:06:31.879800500Z",
     "start_time": "2023-10-09T08:06:31.754699Z"
    }
   },
   "id": "4ce7e9a1e52509df"
  },
  {
   "cell_type": "markdown",
   "source": [
    "### 1\\.3\\. Вычислить корреляции между признаками отдельно по классам."
   ],
   "metadata": {
    "collapsed": false
   },
   "id": "9139fc17241b1e9c"
  },
  {
   "cell_type": "code",
   "execution_count": 4,
   "outputs": [
    {
     "data": {
      "text/plain": "'Class: setosa'"
     },
     "metadata": {},
     "output_type": "display_data"
    },
    {
     "data": {
      "text/plain": "                   sepal length (cm)  sepal width (cm)  petal length (cm)  \\\nsepal length (cm)           1.000000          0.742547           0.267176   \nsepal width (cm)            0.742547          1.000000           0.177700   \npetal length (cm)           0.267176          0.177700           1.000000   \npetal width (cm)            0.278098          0.232752           0.331630   \n\n                   petal width (cm)  \nsepal length (cm)          0.278098  \nsepal width (cm)           0.232752  \npetal length (cm)          0.331630  \npetal width (cm)           1.000000  ",
      "text/html": "<div>\n<style scoped>\n    .dataframe tbody tr th:only-of-type {\n        vertical-align: middle;\n    }\n\n    .dataframe tbody tr th {\n        vertical-align: top;\n    }\n\n    .dataframe thead th {\n        text-align: right;\n    }\n</style>\n<table border=\"1\" class=\"dataframe\">\n  <thead>\n    <tr style=\"text-align: right;\">\n      <th></th>\n      <th>sepal length (cm)</th>\n      <th>sepal width (cm)</th>\n      <th>petal length (cm)</th>\n      <th>petal width (cm)</th>\n    </tr>\n  </thead>\n  <tbody>\n    <tr>\n      <th>sepal length (cm)</th>\n      <td>1.000000</td>\n      <td>0.742547</td>\n      <td>0.267176</td>\n      <td>0.278098</td>\n    </tr>\n    <tr>\n      <th>sepal width (cm)</th>\n      <td>0.742547</td>\n      <td>1.000000</td>\n      <td>0.177700</td>\n      <td>0.232752</td>\n    </tr>\n    <tr>\n      <th>petal length (cm)</th>\n      <td>0.267176</td>\n      <td>0.177700</td>\n      <td>1.000000</td>\n      <td>0.331630</td>\n    </tr>\n    <tr>\n      <th>petal width (cm)</th>\n      <td>0.278098</td>\n      <td>0.232752</td>\n      <td>0.331630</td>\n      <td>1.000000</td>\n    </tr>\n  </tbody>\n</table>\n</div>"
     },
     "metadata": {},
     "output_type": "display_data"
    },
    {
     "data": {
      "text/plain": "'Class: versicolor'"
     },
     "metadata": {},
     "output_type": "display_data"
    },
    {
     "data": {
      "text/plain": "                   sepal length (cm)  sepal width (cm)  petal length (cm)  \\\nsepal length (cm)           1.000000          0.525911           0.754049   \nsepal width (cm)            0.525911          1.000000           0.560522   \npetal length (cm)           0.754049          0.560522           1.000000   \npetal width (cm)            0.546461          0.663999           0.786668   \n\n                   petal width (cm)  \nsepal length (cm)          0.546461  \nsepal width (cm)           0.663999  \npetal length (cm)          0.786668  \npetal width (cm)           1.000000  ",
      "text/html": "<div>\n<style scoped>\n    .dataframe tbody tr th:only-of-type {\n        vertical-align: middle;\n    }\n\n    .dataframe tbody tr th {\n        vertical-align: top;\n    }\n\n    .dataframe thead th {\n        text-align: right;\n    }\n</style>\n<table border=\"1\" class=\"dataframe\">\n  <thead>\n    <tr style=\"text-align: right;\">\n      <th></th>\n      <th>sepal length (cm)</th>\n      <th>sepal width (cm)</th>\n      <th>petal length (cm)</th>\n      <th>petal width (cm)</th>\n    </tr>\n  </thead>\n  <tbody>\n    <tr>\n      <th>sepal length (cm)</th>\n      <td>1.000000</td>\n      <td>0.525911</td>\n      <td>0.754049</td>\n      <td>0.546461</td>\n    </tr>\n    <tr>\n      <th>sepal width (cm)</th>\n      <td>0.525911</td>\n      <td>1.000000</td>\n      <td>0.560522</td>\n      <td>0.663999</td>\n    </tr>\n    <tr>\n      <th>petal length (cm)</th>\n      <td>0.754049</td>\n      <td>0.560522</td>\n      <td>1.000000</td>\n      <td>0.786668</td>\n    </tr>\n    <tr>\n      <th>petal width (cm)</th>\n      <td>0.546461</td>\n      <td>0.663999</td>\n      <td>0.786668</td>\n      <td>1.000000</td>\n    </tr>\n  </tbody>\n</table>\n</div>"
     },
     "metadata": {},
     "output_type": "display_data"
    },
    {
     "data": {
      "text/plain": "'Class: virginica'"
     },
     "metadata": {},
     "output_type": "display_data"
    },
    {
     "data": {
      "text/plain": "                   sepal length (cm)  sepal width (cm)  petal length (cm)  \\\nsepal length (cm)           1.000000          0.457228           0.864225   \nsepal width (cm)            0.457228          1.000000           0.401045   \npetal length (cm)           0.864225          0.401045           1.000000   \npetal width (cm)            0.281108          0.537728           0.322108   \n\n                   petal width (cm)  \nsepal length (cm)          0.281108  \nsepal width (cm)           0.537728  \npetal length (cm)          0.322108  \npetal width (cm)           1.000000  ",
      "text/html": "<div>\n<style scoped>\n    .dataframe tbody tr th:only-of-type {\n        vertical-align: middle;\n    }\n\n    .dataframe tbody tr th {\n        vertical-align: top;\n    }\n\n    .dataframe thead th {\n        text-align: right;\n    }\n</style>\n<table border=\"1\" class=\"dataframe\">\n  <thead>\n    <tr style=\"text-align: right;\">\n      <th></th>\n      <th>sepal length (cm)</th>\n      <th>sepal width (cm)</th>\n      <th>petal length (cm)</th>\n      <th>petal width (cm)</th>\n    </tr>\n  </thead>\n  <tbody>\n    <tr>\n      <th>sepal length (cm)</th>\n      <td>1.000000</td>\n      <td>0.457228</td>\n      <td>0.864225</td>\n      <td>0.281108</td>\n    </tr>\n    <tr>\n      <th>sepal width (cm)</th>\n      <td>0.457228</td>\n      <td>1.000000</td>\n      <td>0.401045</td>\n      <td>0.537728</td>\n    </tr>\n    <tr>\n      <th>petal length (cm)</th>\n      <td>0.864225</td>\n      <td>0.401045</td>\n      <td>1.000000</td>\n      <td>0.322108</td>\n    </tr>\n    <tr>\n      <th>petal width (cm)</th>\n      <td>0.281108</td>\n      <td>0.537728</td>\n      <td>0.322108</td>\n      <td>1.000000</td>\n    </tr>\n  </tbody>\n</table>\n</div>"
     },
     "metadata": {},
     "output_type": "display_data"
    }
   ],
   "source": [
    "for iris_class in range(0, 3):\n",
    "    display(f'Class: {iris_bunch[\"target_names\"][iris_class]}')\n",
    "    display(via_dataframe_interface(iris_dataframe.loc[iris_dataframe[\"target\"] == iris_class]))"
   ],
   "metadata": {
    "collapsed": false,
    "ExecuteTime": {
     "end_time": "2023-10-09T08:06:31.966368800Z",
     "start_time": "2023-10-09T08:06:31.789647Z"
    }
   },
   "id": "768bd56178c1b35f"
  },
  {
   "cell_type": "markdown",
   "source": [
    "### 1\\.4\\. Визуализировать распределения классов на всех парах переменных."
   ],
   "metadata": {
    "collapsed": false
   },
   "id": "4ef2b6ef2a134404"
  },
  {
   "cell_type": "code",
   "execution_count": 5,
   "outputs": [],
   "source": [
    "figure = Figure(figsize=(12, 12))\n",
    "subplots: list[list[Axes]] = [list(row) for row in figure.subplots(4, 4)]\n",
    "axes: Axes\n",
    "\n",
    "colors = (\"purple\", \"orange\", \"black\")\n",
    "formatter = FormatStrFormatter(\"%.1f\")\n",
    "\n",
    "for target, grouped in iris_dataframe.groupby(\"target\"):\n",
    "    for y_feature, row in zip(iris_bunch[\"feature_names\"], subplots):\n",
    "        axes, *_ = row; axes.set_ylabel(y_feature)\n",
    "        for x_feature, axes in zip(iris_bunch[\"feature_names\"], row):\n",
    "            axes.scatter([grouped[x_feature]], [grouped[y_feature]], c=colors[target], label=iris_bunch[\"target_names\"][target], edgecolors=\"white\")\n",
    "            axes.xaxis.set_major_formatter(formatter)\n",
    "            axes.yaxis.set_major_formatter(formatter)\n",
    "\n",
    "for x_feature, axes in zip(iris_bunch[\"feature_names\"], row):  # noqa\n",
    "    axes.set_xlabel(x_feature)\n",
    "\n",
    "figure.legend(iris_bunch[\"target_names\"], bbox_to_anchor=(0.226, 0.882))\n",
    "figure.savefig(\"./images/pair-distribution.png\")"
   ],
   "metadata": {
    "collapsed": false,
    "ExecuteTime": {
     "end_time": "2023-10-09T08:06:33.408741900Z",
     "start_time": "2023-10-09T08:06:31.839598600Z"
    }
   },
   "id": "dadaa01a268f9187"
  },
  {
   "cell_type": "markdown",
   "source": [
    "### 2\\.1\\. Выбрать две переменные."
   ],
   "metadata": {
    "collapsed": false
   },
   "id": "29f0587d73f9671a"
  },
  {
   "cell_type": "code",
   "execution_count": 6,
   "outputs": [],
   "source": [
    "cut_dataframe: DataFrame = iris_dataframe[[\"sepal width (cm)\", \"petal width (cm)\", \"target\"]][iris_dataframe[\"target\"] != 0]\n",
    "\n",
    "X = cut_dataframe.iloc[::, :2].values\n",
    "y = cut_dataframe[\"target\"].values"
   ],
   "metadata": {
    "collapsed": false,
    "ExecuteTime": {
     "end_time": "2023-10-09T08:06:33.420469500Z",
     "start_time": "2023-10-09T08:06:33.410604Z"
    }
   },
   "id": "8c5f6130b2787613"
  },
  {
   "cell_type": "markdown",
   "source": [
    "### 2\\.2\\. Построить решения заданными методами."
   ],
   "metadata": {
    "collapsed": false
   },
   "id": "dafe4db4eed49597"
  },
  {
   "cell_type": "code",
   "execution_count": 7,
   "outputs": [],
   "source": [
    "class FitAndPredictMixin(Protocol):\n",
    "    def fit(self, X: Any, y: Any, sample_weight: Any = None) -> object:  # noqa\n",
    "        ...\n",
    "\n",
    "    def predict(self, X: Any) -> Any:  # noqa\n",
    "        ...\n",
    "\n",
    "\n",
    "classifiers: dict[str, FitAndPredictMixin] = {\n",
    "    \"SVM, линейное ядро\": SVC(kernel=\"linear\", C=1),\n",
    "    \"Линейный дискриминант\": LinearDiscriminantAnalysis(store_covariance=True),\n",
    "    \"Логистическая регрессия\": LogisticRegression(random_state=0),\n",
    "    \"SVM, квадратичное ядро\": SVC(kernel=\"poly\", degree=2, gamma=\"auto\", C=1),\n",
    "    \"Квадратичный дискриминант\": QuadraticDiscriminantAnalysis(store_covariance=True),\n",
    "    \"Гауссовский наивный байесовский\": GaussianNB(),\n",
    "}\n",
    "\n",
    "for clf in classifiers.values():\n",
    "    clf.fit(X, y)"
   ],
   "metadata": {
    "collapsed": false,
    "ExecuteTime": {
     "end_time": "2023-10-09T08:06:33.508101600Z",
     "start_time": "2023-10-09T08:06:33.422987500Z"
    }
   },
   "id": "ed63c3608f45588d"
  },
  {
   "cell_type": "markdown",
   "source": [
    "### 2\\.3\\. Отобразить полученные решения."
   ],
   "metadata": {
    "collapsed": false
   },
   "id": "cac3a088849180c6"
  },
  {
   "cell_type": "code",
   "execution_count": 8,
   "outputs": [],
   "source": [
    "def get_points(s: Series, padding: float = 0.1, step: float = 0.005) -> np.ndarray[float]:\n",
    "    s_max, s_min = s.max(), s.min()\n",
    "    delta = s_max - s_min\n",
    "    pad = delta * padding\n",
    "\n",
    "    return np.arange(s_min - pad, s_max + pad, step)\n",
    "\n",
    "xv: np.ndarray[float]\n",
    "yv: np.ndarray[float]\n",
    "\n",
    "xv, yv = np.meshgrid(\n",
    "    get_points(cut_dataframe[\"sepal width (cm)\"]),\n",
    "    get_points(cut_dataframe[\"petal width (cm)\"]),\n",
    ")\n",
    "\n",
    "figure = Figure(figsize=(16, 10))\n",
    "subplots: np.ndarray[Axes] = figure.subplots(2, 3).flatten()\n",
    "\n",
    "for axes, (name, clf) in zip(subplots, classifiers.items()):\n",
    "    Z: np.ndarray[int] = clf.predict(np.c_[xv.ravel(), yv.ravel()]).reshape(xv.shape)\n",
    "\n",
    "    axes.contourf(xv, yv, Z, cmap=\"coolwarm\", alpha=0.5)\n",
    "    axes.scatter(cut_dataframe[\"sepal width (cm)\"], cut_dataframe[\"petal width (cm)\"], c=y, cmap=\"coolwarm\")\n",
    "\n",
    "    axes.set_title(name)\n",
    "    axes.set_xlabel(\"sepal width (cm)\")\n",
    "    axes.set_ylabel(\"petal width (cm)\")\n",
    "\n",
    "figure.savefig(\"./images/different-methods.png\")"
   ],
   "metadata": {
    "collapsed": false,
    "ExecuteTime": {
     "end_time": "2023-10-09T08:06:34.851117Z",
     "start_time": "2023-10-09T08:06:33.451115600Z"
    }
   },
   "id": "dc303b54560ed604"
  },
  {
   "cell_type": "markdown",
   "source": [
    "### 3\\.1\\. Построить линейный дискриминант на всех переменных."
   ],
   "metadata": {
    "collapsed": false
   },
   "id": "7a90eba0b52e2479"
  },
  {
   "cell_type": "code",
   "execution_count": 9,
   "outputs": [
    {
     "data": {
      "text/plain": "     sepal length (cm)  sepal width (cm)  petal length (cm)  petal width (cm)  \\\n70                 5.9               3.2                4.8               1.8   \n83                 6.0               2.7                5.1               1.6   \n133                6.3               2.8                5.1               1.5   \n\n     target  prediction  \n70        1           2  \n83        1           2  \n133       2           1  ",
      "text/html": "<div>\n<style scoped>\n    .dataframe tbody tr th:only-of-type {\n        vertical-align: middle;\n    }\n\n    .dataframe tbody tr th {\n        vertical-align: top;\n    }\n\n    .dataframe thead th {\n        text-align: right;\n    }\n</style>\n<table border=\"1\" class=\"dataframe\">\n  <thead>\n    <tr style=\"text-align: right;\">\n      <th></th>\n      <th>sepal length (cm)</th>\n      <th>sepal width (cm)</th>\n      <th>petal length (cm)</th>\n      <th>petal width (cm)</th>\n      <th>target</th>\n      <th>prediction</th>\n    </tr>\n  </thead>\n  <tbody>\n    <tr>\n      <th>70</th>\n      <td>5.9</td>\n      <td>3.2</td>\n      <td>4.8</td>\n      <td>1.8</td>\n      <td>1</td>\n      <td>2</td>\n    </tr>\n    <tr>\n      <th>83</th>\n      <td>6.0</td>\n      <td>2.7</td>\n      <td>5.1</td>\n      <td>1.6</td>\n      <td>1</td>\n      <td>2</td>\n    </tr>\n    <tr>\n      <th>133</th>\n      <td>6.3</td>\n      <td>2.8</td>\n      <td>5.1</td>\n      <td>1.5</td>\n      <td>2</td>\n      <td>1</td>\n    </tr>\n  </tbody>\n</table>\n</div>"
     },
     "execution_count": 9,
     "metadata": {},
     "output_type": "execute_result"
    }
   ],
   "source": [
    "lda_clf = LinearDiscriminantAnalysis()\n",
    "\n",
    "tc_dataframe = iris_dataframe.loc[iris_dataframe[\"target\"] != 0].copy()\n",
    "X = tc_dataframe.iloc[::, :-1]\n",
    "y = tc_dataframe.iloc[::, -1]\n",
    "\n",
    "lda_clf.fit(X, y)\n",
    "\n",
    "tc_dataframe[\"prediction\"] = lda_clf.predict(X)\n",
    "tc_dataframe.loc[tc_dataframe[\"target\"] != tc_dataframe[\"prediction\"]]"
   ],
   "metadata": {
    "collapsed": false,
    "ExecuteTime": {
     "end_time": "2023-10-09T08:06:34.884041Z",
     "start_time": "2023-10-09T08:06:34.859666300Z"
    }
   },
   "id": "b4b6325b5c2a629c"
  },
  {
   "cell_type": "markdown",
   "source": [
    "### 3\\.2\\. Визуализировать ответы во всех двумерных подпространствах."
   ],
   "metadata": {
    "collapsed": false
   },
   "id": "8ea4c9a5b3d9e32a"
  },
  {
   "cell_type": "code",
   "execution_count": 10,
   "outputs": [],
   "source": [
    "sub_dimensions = combinations(iris_bunch[\"feature_names\"], 2)\n",
    "\n",
    "figure = Figure(figsize=(16, 10))\n",
    "subplots: np.ndarray[Axes] = figure.subplots(2, 3).flatten()\n",
    "mapping = [colors[p] for p in tc_dataframe[\"prediction\"]]\n",
    "\n",
    "versicolor_dataframe = tc_dataframe[tc_dataframe[\"target\"] == 1]\n",
    "virginica_dataframe = tc_dataframe[tc_dataframe[\"target\"] == 2]\n",
    "\n",
    "versicolor_mapping = [colors[p] for p in versicolor_dataframe[\"prediction\"]]\n",
    "virginica_mapping = [colors[p] for p in virginica_dataframe[\"prediction\"]]\n",
    "\n",
    "for (x, y), axes in zip(sub_dimensions, subplots):\n",
    "    axes.scatter(versicolor_dataframe[x], versicolor_dataframe[y], c=versicolor_mapping, marker=\"+\")\n",
    "    axes.scatter(virginica_dataframe[x], virginica_dataframe[y], c=virginica_mapping, marker=\"*\")\n",
    "    axes.set_xlabel(x)\n",
    "    axes.set_ylabel(y)\n",
    "\n",
    "figure.savefig(\"./images/pair-lda.png\")"
   ],
   "metadata": {
    "collapsed": false,
    "ExecuteTime": {
     "end_time": "2023-10-09T08:06:35.570214200Z",
     "start_time": "2023-10-09T08:06:34.875446300Z"
    }
   },
   "id": "bb7c983d7396f5f9"
  },
  {
   "cell_type": "markdown",
   "source": [
    "### 4\\.1\\. Самостоятельно вычислить квадратичную разделяющую функцию."
   ],
   "metadata": {
    "collapsed": false
   },
   "id": "6942f32d4a9dce06"
  },
  {
   "cell_type": "code",
   "execution_count": 11,
   "outputs": [],
   "source": [
    "class HandcraftedQuadraticDiscriminantAnalysis(ClassifierMixin):\n",
    "    CLASSES = (1, 2)\n",
    "    \n",
    "    @staticmethod\n",
    "    def delta(x: Any, mu: Any, inv_cov: Any, log_det_cov: Any, pi: Any) -> Any:  # noqa\n",
    "        return (-0.5) * (x - mu).T @ inv_cov @ (x - mu) - log_det_cov + pi\n",
    "    \n",
    "    def fit(self, X: Any, y: Any) -> Any:  # noqa\n",
    "        self.kwargs = {  # noqa\n",
    "            t: {\n",
    "                \"mu\": X[y == t].mean(axis=0),\n",
    "                \"inv_cov\": np.linalg.inv(cov := np.cov(X[y == t], rowvar=False)),\n",
    "                \"log_det_cov\": 0.5 * np.log(np.linalg.det(cov)),\n",
    "                \"pi\": np.log(len(X[y == t]) / len(y))\n",
    "            }\n",
    "            for t in self.CLASSES\n",
    "        }\n",
    "\n",
    "    def predict(self, X: Any) -> Any:  # noqa\n",
    "        prediction = []\n",
    "        \n",
    "        for x in X:  # noqa\n",
    "            delta = {t: self.delta(x, **kwargs) for t, kwargs in self.kwargs.items()}\n",
    "            prediction.append(max(delta, key=lambda k: delta[k]))\n",
    "\n",
    "        return np.array(prediction)"
   ],
   "metadata": {
    "collapsed": false,
    "ExecuteTime": {
     "end_time": "2023-10-09T08:06:35.580329700Z",
     "start_time": "2023-10-09T08:06:35.571213200Z"
    }
   },
   "id": "65fe34d3d7d7af65"
  },
  {
   "cell_type": "markdown",
   "source": [
    "### 4\\.2\\. Визуализировать полученное решение и сравнить с reference implementation."
   ],
   "metadata": {
    "collapsed": false
   },
   "id": "fb6fcb6c50273b71"
  },
  {
   "cell_type": "code",
   "execution_count": 12,
   "outputs": [],
   "source": [
    "classifiers: dict[str, FitAndPredictMixin] = {\n",
    "    \"Собственный QDA\": HandcraftedQuadraticDiscriminantAnalysis(),\n",
    "    \"Референcный QDA\": QuadraticDiscriminantAnalysis(store_covariance=True),\n",
    "}\n",
    "\n",
    "X = cut_dataframe.iloc[::, :2].values\n",
    "y = cut_dataframe[\"target\"].values\n",
    "\n",
    "for clf in classifiers.values():\n",
    "    clf.fit(X, y)\n",
    "\n",
    "xv, yv = np.meshgrid(\n",
    "    get_points(cut_dataframe[\"sepal width (cm)\"]),\n",
    "    get_points(cut_dataframe[\"petal width (cm)\"]),\n",
    ")\n",
    "\n",
    "figure = Figure(figsize=(8, 4))\n",
    "subplots: np.ndarray[Axes] = figure.subplots(1, 2).flatten()\n",
    "\n",
    "for axes, (name, clf) in zip(subplots, classifiers.items()):\n",
    "    Z: np.ndarray[int] = clf.predict(np.c_[xv.ravel(), yv.ravel()]).reshape(xv.shape)\n",
    "\n",
    "    axes.contourf(xv, yv, Z, cmap=\"coolwarm\", alpha=0.5)\n",
    "    axes.scatter(cut_dataframe[\"sepal width (cm)\"], cut_dataframe[\"petal width (cm)\"], c=y, cmap=\"coolwarm\")\n",
    "\n",
    "    axes.set_title(name)\n",
    "    axes.set_xlabel(\"sepal width (cm)\")\n",
    "    axes.set_ylabel(\"petal width (cm)\")\n",
    "\n",
    "figure.savefig(\"./images/qda-implementation.png\")"
   ],
   "metadata": {
    "collapsed": false,
    "ExecuteTime": {
     "end_time": "2023-10-09T08:06:38.095799200Z",
     "start_time": "2023-10-09T08:06:35.580329700Z"
    }
   },
   "id": "8c610227c4a4d9f6"
  }
 ],
 "metadata": {
  "kernelspec": {
   "display_name": "Python 3",
   "language": "python",
   "name": "python3"
  },
  "language_info": {
   "codemirror_mode": {
    "name": "ipython",
    "version": 2
   },
   "file_extension": ".py",
   "mimetype": "text/x-python",
   "name": "python",
   "nbconvert_exporter": "python",
   "pygments_lexer": "ipython2",
   "version": "2.7.6"
  }
 },
 "nbformat": 4,
 "nbformat_minor": 5
}
